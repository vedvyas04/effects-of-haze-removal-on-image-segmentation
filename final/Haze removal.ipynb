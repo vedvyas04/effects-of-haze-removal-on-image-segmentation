{
 "cells": [
  {
   "cell_type": "markdown",
   "id": "7b5d684a",
   "metadata": {},
   "source": [
    "#### Image Dehazing code"
   ]
  },
  {
   "cell_type": "markdown",
   "id": "4a96fa58",
   "metadata": {},
   "source": [
    "Link of dataset : https://www.kaggle.com/datasets/rajat95gupta/hazing-images-dataset-cvpr-2019"
   ]
  },
  {
   "cell_type": "code",
   "execution_count": 4,
   "id": "2acd1843",
   "metadata": {},
   "outputs": [],
   "source": [
    "\"\"\"Single image dehazing.\"\"\"\n",
    "from __future__ import division\n",
    "import cv2\n",
    "import numpy as np\n",
    "import matplotlib.pyplot as plt\n",
    "%matplotlib inline"
   ]
  },
  {
   "cell_type": "code",
   "execution_count": 95,
   "id": "9d9cdffe",
   "metadata": {},
   "outputs": [],
   "source": [
    "# Code with intial code + tr map change\n",
    "class Channel_value:\n",
    "    val = -1.0\n",
    "    intensity = -1.0\n",
    "\n",
    "\n",
    "def find_intensity_of_atmospheric_light(img, gray):\n",
    "    top_num = int(img.shape[0] * img.shape[1] * 0.001)\n",
    "    toplist = [Channel_value()] * top_num\n",
    "    dark_channel = find_dark_channel(img)\n",
    "    l = [x.val for x in toplist]\n",
    "\n",
    "    for y in range(img.shape[0]):\n",
    "        for x in range(img.shape[1]):\n",
    "            val = img.item(y, x, dark_channel)\n",
    "            intensity = gray.item(y, x)\n",
    "            toplist.sort(key = lambda x: x.val, reverse = True)\n",
    "\n",
    "            if (-1 in l):\n",
    "                i = l.index(-1)\n",
    "                l[i] = val\n",
    "                toplist[i].val = val\n",
    "                toplist[i].intensity = intensity \n",
    "            else:\n",
    "                for t in toplist:\n",
    "                    if t.val < val or (t.val == val and t.intensity < intensity):\n",
    "                        t.val = val\n",
    "                        t.intensity = intensity\n",
    "                        break\n",
    "\n",
    "    toplist.sort(key = lambda x: x.intensity, reverse = True)\n",
    "\n",
    "    return toplist[0].intensity\n",
    "\n",
    "\n",
    "def find_dark_channel(img):\n",
    "    return np.unravel_index(np.argmin(img), img.shape)[2]\n",
    "\n",
    "\n",
    "def clamp(minimum, x, maximum):\n",
    "    return max(minimum, min(x, maximum))\n",
    "\n",
    "def create_fine_map(img, y, x):\n",
    "    return min(img.item(y, x, 0), img.item(y, x, 1), img.item(y, x, 2))\n",
    "\n",
    "\n",
    "def refining_coarse_map(img, sliceimg, y_c, x_c, windowSize):\n",
    "    size = (sliceimg.shape[0], sliceimg.shape[1])\n",
    "    max_coarse = -math.inf\n",
    "    for y in range(size[0]):\n",
    "        for x in range(size[1]):\n",
    "            x_low = max(x-(windowSize//2), 0)\n",
    "            y_low = max(y-(windowSize//2), 0)\n",
    "            x_high = min(x+(windowSize//2), size[1])\n",
    "            y_high = min(y+(windowSize//2), size[0])\n",
    "\n",
    "            s = img[y_low:y_high, x_low:x_high]\n",
    "            dark_channel = find_dark_channel(s)\n",
    "\n",
    "            m_coarse = img.item(y, x, dark_channel)\n",
    "            if m_coarse > max_coarse:\n",
    "                max_coarse = m_coarse\n",
    "\n",
    "    m_fine = create_fine_map(img, y_c, x_c)\n",
    "\n",
    "    return min(max_coarse, m_fine)\n",
    "\n",
    "\n",
    "def dehaze(img, windowSize, light_intensity, t0, w):\n",
    "    size = (img.shape[0], img.shape[1])\n",
    "\n",
    "    outimg = np.zeros(img.shape, img.dtype)\n",
    "\n",
    "    for y in range(size[0]):\n",
    "        for x in range(size[1]):\n",
    "            x_low = max(x-(windowSize//2), 0)\n",
    "            y_low = max(y-(windowSize//2), 0)\n",
    "            x_high = min(x+(windowSize//2), size[1])\n",
    "            y_high = min(y+(windowSize//2), size[0])\n",
    "\n",
    "            sliceimg = img[y_low:y_high, x_low:x_high]\n",
    "\n",
    "            m_t = refining_coarse_map(img, sliceimg, y, x, windowSize)\n",
    "            t = 1.0 - (w * m_t/ light_intensity)\n",
    "\n",
    "            outimg.itemset((y,x,0), clamp(0, ((img.item(y,x,0) - light_intensity) / max(t, t0) + light_intensity), 255))\n",
    "            outimg.itemset((y,x,1), clamp(0, ((img.item(y,x,1) - light_intensity) / max(t, t0) + light_intensity), 255))\n",
    "            outimg.itemset((y,x,2), clamp(0, ((img.item(y,x,2) - light_intensity) / max(t, t0) + light_intensity), 255))\n",
    "    return outimg"
   ]
  },
  {
   "cell_type": "code",
   "execution_count": null,
   "id": "da0177b8",
   "metadata": {},
   "outputs": [],
   "source": [
    "def main():\n",
    "    image_name = '48_hazy'\n",
    "    image_gt_name = '48_GT'\n",
    "    img = cv2.imread(str(image_name + '.png'))\n",
    "    gray = cv2.cvtColor(img, cv2.COLOR_BGR2GRAY)\n",
    "    light_intensity = find_intensity_of_atmospheric_light(img, gray)\n",
    "    w = 0.99\n",
    "    t0 = 0.55\n",
    "    outimg = dehaze(img, 20, light_intensity, t0, w)\n",
    "    fig = plt.figure()\n",
    "    fig.set_size_inches(12, 4)\n",
    "    plt.subplot(131)\n",
    "    plt.imshow(img)\n",
    "    plt.subplot(132)\n",
    "    plt.imshow(outimg)\n",
    "\n",
    "    cv2.imwrite(str('out_' + image_name + '.png'), outimg)\n",
    "\n",
    "    img_clear = cv2.imread(str(image_gt_name + '.png'))\n",
    "    img_clear_gray = cv2.cvtColor(img_clear, cv2.COLOR_BGR2GRAY)\n",
    "\n",
    "    img_hazed = cv2.imread(str(image_name + '.png'))\n",
    "    img_hazed_gray = cv2.cvtColor(img_hazed, cv2.COLOR_BGR2GRAY)\n",
    "\n",
    "    img_dehazed = cv2.imread(str('out_' + image_name + '.png'))\n",
    "    img_dehazed_gray = cv2.cvtColor(img_dehazed, cv2.COLOR_BGR2GRAY)\n",
    "\n",
    "    cl_de = ssim(img_clear_gray, img_dehazed_gray)\n",
    "    print('Clear image vs Dehazed image', cl_de)\n",
    "\n",
    "    cl_haz = ssim(img_clear_gray, img_hazed_gray)\n",
    "    print('Clear image vs Hazed image', cl_haz)\n",
    "\n",
    "if __name__ == \"__main__\": main()"
   ]
  },
  {
   "cell_type": "code",
   "execution_count": 30,
   "id": "5670d785",
   "metadata": {},
   "outputs": [
    {
     "data": {
      "text/plain": [
       "0.44937415757732235"
      ]
     },
     "execution_count": 30,
     "metadata": {},
     "output_type": "execute_result"
    }
   ],
   "source": [
    "# 33_haze : Haze removal with window size 300 : Comparison with clear image\n",
    "from skimage.metrics import structural_similarity as ssim\n",
    "\n",
    "img_dehazed = cv2.imread('C:/Users/aditi/OneDrive/Desktop/NEU/NEU Fall 22 (Computer Vision)/Project/Data/results_defogging/Brightness Correction/33_hazy_window300_w0.99.png')\n",
    "img_dehazed_gray = cv2.cvtColor(img_dehazed, cv2.COLOR_BGR2GRAY)\n",
    "\n",
    "img_hazed = cv2.imread('C:/Users/aditi/OneDrive/Desktop/NEU/NEU Fall 22 (Computer Vision)/Project/Data/GT/33_GT.png')\n",
    "img_hazed_gray = cv2.cvtColor(img_hazed, cv2.COLOR_BGR2GRAY)\n",
    "\n",
    "\n",
    "ssim(img_hazed_gray, img_dehazed_gray)"
   ]
  },
  {
   "cell_type": "code",
   "execution_count": 31,
   "id": "b9fc495c",
   "metadata": {},
   "outputs": [
    {
     "data": {
      "text/plain": [
       "0.44937415757732235"
      ]
     },
     "execution_count": 31,
     "metadata": {},
     "output_type": "execute_result"
    }
   ],
   "source": [
    "# 33_haze : Haze removal with window size 100 : Comparison with clear image\n",
    "img_dehazed = cv2.imread('C:/Users/aditi/OneDrive/Desktop/NEU/NEU Fall 22 (Computer Vision)/Project/Data/results_defogging/Brightness Correction/33_hazy_window100_w0.99.png')\n",
    "img_dehazed_gray = cv2.cvtColor(img_dehazed, cv2.COLOR_BGR2GRAY)\n",
    "\n",
    "ssim(img_hazed_gray, img_dehazed_gray)"
   ]
  },
  {
   "cell_type": "code",
   "execution_count": 74,
   "id": "fa45118e",
   "metadata": {},
   "outputs": [
    {
     "data": {
      "text/plain": [
       "0.44937415757732235"
      ]
     },
     "execution_count": 74,
     "metadata": {},
     "output_type": "execute_result"
    }
   ],
   "source": [
    "# 33_haze : Haze removal with window size 300 : Comparison with clear image\n",
    "from skimage.metrics import structural_similarity as ssim\n",
    "\n",
    "img_dehazed = cv2.imread('C:/Users/aditi/OneDrive/Desktop/NEU/NEU Fall 22 (Computer Vision)/Project/Data/results_defogging/Brightness Correction/demo scipt data/out_33_hazy.png')\n",
    "img_dehazed_gray = cv2.cvtColor(img_dehazed, cv2.COLOR_BGR2GRAY)\n",
    "\n",
    "img_or = cv2.imread('C:/Users/aditi/OneDrive/Desktop/NEU/NEU Fall 22 (Computer Vision)/Project/Data/results_defogging/Brightness Correction/demo scipt data/33_GT.png')\n",
    "img_or_gray = cv2.cvtColor(img_or, cv2.COLOR_BGR2GRAY)\n",
    "\n",
    "img_hazed = cv2.imread('C:/Users/aditi/OneDrive/Desktop/NEU/NEU Fall 22 (Computer Vision)/Project/Data/results_defogging/Brightness Correction/demo scipt data/33_hazy.png')\n",
    "img_hazed_gray = cv2.cvtColor(img_hazed, cv2.COLOR_BGR2GRAY)\n",
    "\n",
    "\n",
    "\n",
    "ssim(img_or_gray, img_dehazed_gray)"
   ]
  },
  {
   "cell_type": "code",
   "execution_count": 75,
   "id": "3ffb8f27",
   "metadata": {},
   "outputs": [
    {
     "data": {
      "text/plain": [
       "0.35948850485634826"
      ]
     },
     "execution_count": 75,
     "metadata": {},
     "output_type": "execute_result"
    }
   ],
   "source": [
    "ssim(img_or_gray, img_hazed_gray)"
   ]
  },
  {
   "cell_type": "code",
   "execution_count": 77,
   "id": "35d36ddb",
   "metadata": {},
   "outputs": [
    {
     "data": {
      "text/plain": [
       "15.000060116989083"
      ]
     },
     "execution_count": 77,
     "metadata": {},
     "output_type": "execute_result"
    }
   ],
   "source": [
    "cv2.PSNR(img_or_gray, img_dehazed_gray)"
   ]
  },
  {
   "cell_type": "code",
   "execution_count": 78,
   "id": "55f04ad2",
   "metadata": {},
   "outputs": [
    {
     "data": {
      "text/plain": [
       "9.956782885880157"
      ]
     },
     "execution_count": 78,
     "metadata": {},
     "output_type": "execute_result"
    }
   ],
   "source": [
    "cv2.PSNR(img_or_gray, img_hazed_gray)"
   ]
  },
  {
   "cell_type": "code",
   "execution_count": 79,
   "id": "021bdbb7",
   "metadata": {},
   "outputs": [
    {
     "data": {
      "text/plain": [
       "0.453828509438771"
      ]
     },
     "execution_count": 79,
     "metadata": {},
     "output_type": "execute_result"
    }
   ],
   "source": [
    "# 33_haze : Haze removal with window size 300 : Comparison with clear image\n",
    "from skimage.metrics import structural_similarity as ssim\n",
    "\n",
    "img_dehazed = cv2.imread('C:/Users/aditi/OneDrive/Desktop/NEU/NEU Fall 22 (Computer Vision)/Project/Data/results_defogging/Brightness Correction/demo scipt data/out_05_hazy.png')\n",
    "img_dehazed_gray = cv2.cvtColor(img_dehazed, cv2.COLOR_BGR2GRAY)\n",
    "\n",
    "img_or = cv2.imread('C:/Users/aditi/OneDrive/Desktop/NEU/NEU Fall 22 (Computer Vision)/Project/Data/results_defogging/Brightness Correction/demo scipt data/05_GT.png')\n",
    "img_or_gray = cv2.cvtColor(img_or, cv2.COLOR_BGR2GRAY)\n",
    "\n",
    "img_hazed = cv2.imread('C:/Users/aditi/OneDrive/Desktop/NEU/NEU Fall 22 (Computer Vision)/Project/Data/results_defogging/Brightness Correction/demo scipt data/05_hazy.png')\n",
    "img_hazed_gray = cv2.cvtColor(img_hazed, cv2.COLOR_BGR2GRAY)\n",
    "\n",
    "\n",
    "\n",
    "ssim(img_or_gray, img_dehazed_gray)"
   ]
  },
  {
   "cell_type": "code",
   "execution_count": 80,
   "id": "c9510dd9",
   "metadata": {},
   "outputs": [
    {
     "data": {
      "text/plain": [
       "0.36924787349451244"
      ]
     },
     "execution_count": 80,
     "metadata": {},
     "output_type": "execute_result"
    }
   ],
   "source": [
    "ssim(img_or_gray, img_hazed_gray)"
   ]
  },
  {
   "cell_type": "code",
   "execution_count": 81,
   "id": "cc7612c2",
   "metadata": {},
   "outputs": [
    {
     "data": {
      "text/plain": [
       "11.630859703775124"
      ]
     },
     "execution_count": 81,
     "metadata": {},
     "output_type": "execute_result"
    }
   ],
   "source": [
    "cv2.PSNR(img_or_gray, img_dehazed_gray)"
   ]
  },
  {
   "cell_type": "code",
   "execution_count": 82,
   "id": "a2f5be6d",
   "metadata": {},
   "outputs": [
    {
     "data": {
      "text/plain": [
       "8.81179318518615"
      ]
     },
     "execution_count": 82,
     "metadata": {},
     "output_type": "execute_result"
    }
   ],
   "source": [
    "cv2.PSNR(img_or_gray, img_hazed_gray)"
   ]
  },
  {
   "cell_type": "code",
   "execution_count": 83,
   "id": "1d86c8df",
   "metadata": {},
   "outputs": [
    {
     "data": {
      "text/plain": [
       "0.38804560663918497"
      ]
     },
     "execution_count": 83,
     "metadata": {},
     "output_type": "execute_result"
    }
   ],
   "source": [
    "# 33_haze : Haze removal with window size 300 : Comparison with clear image\n",
    "from skimage.metrics import structural_similarity as ssim\n",
    "\n",
    "img_dehazed = cv2.imread('C:/Users/aditi/OneDrive/Desktop/NEU/NEU Fall 22 (Computer Vision)/Project/Data/results_defogging/Brightness Correction/demo scipt data/out_48_hazy.png')\n",
    "img_dehazed_gray = cv2.cvtColor(img_dehazed, cv2.COLOR_BGR2GRAY)\n",
    "\n",
    "img_or = cv2.imread('C:/Users/aditi/OneDrive/Desktop/NEU/NEU Fall 22 (Computer Vision)/Project/Data/results_defogging/Brightness Correction/demo scipt data/48_GT.png')\n",
    "img_or_gray = cv2.cvtColor(img_or, cv2.COLOR_BGR2GRAY)\n",
    "\n",
    "img_hazed = cv2.imread('C:/Users/aditi/OneDrive/Desktop/NEU/NEU Fall 22 (Computer Vision)/Project/Data/results_defogging/Brightness Correction/demo scipt data/48_hazy.png')\n",
    "img_hazed_gray = cv2.cvtColor(img_hazed, cv2.COLOR_BGR2GRAY)\n",
    "\n",
    "\n",
    "\n",
    "ssim(img_or_gray, img_dehazed_gray)"
   ]
  },
  {
   "cell_type": "code",
   "execution_count": 84,
   "id": "ee7c095f",
   "metadata": {},
   "outputs": [
    {
     "data": {
      "text/plain": [
       "0.3512865230889368"
      ]
     },
     "execution_count": 84,
     "metadata": {},
     "output_type": "execute_result"
    }
   ],
   "source": [
    "ssim(img_or_gray, img_hazed_gray)"
   ]
  },
  {
   "cell_type": "code",
   "execution_count": 85,
   "id": "aadfc76a",
   "metadata": {},
   "outputs": [
    {
     "data": {
      "text/plain": [
       "12.832523147050864"
      ]
     },
     "execution_count": 85,
     "metadata": {},
     "output_type": "execute_result"
    }
   ],
   "source": [
    "cv2.PSNR(img_or_gray, img_dehazed_gray)"
   ]
  },
  {
   "cell_type": "code",
   "execution_count": 86,
   "id": "020d6faf",
   "metadata": {},
   "outputs": [
    {
     "data": {
      "text/plain": [
       "11.991906265353329"
      ]
     },
     "execution_count": 86,
     "metadata": {},
     "output_type": "execute_result"
    }
   ],
   "source": [
    "cv2.PSNR(img_or_gray, img_hazed_gray)"
   ]
  },
  {
   "cell_type": "code",
   "execution_count": 87,
   "id": "948b7f47",
   "metadata": {},
   "outputs": [
    {
     "data": {
      "text/plain": [
       "0.44937415757732235"
      ]
     },
     "execution_count": 87,
     "metadata": {},
     "output_type": "execute_result"
    }
   ],
   "source": [
    "# 33_haze : Haze removal with window size 300 : Comparison with clear image\n",
    "from skimage.metrics import structural_similarity as ssim\n",
    "\n",
    "img_dehazed = cv2.imread('C:/Users/aditi/OneDrive/Desktop/NEU/NEU Fall 22 (Computer Vision)/Project/Data/results_defogging/Brightness Correction/demo scipt data/out_33_hazy.png')\n",
    "img_dehazed_gray = cv2.cvtColor(img_dehazed, cv2.COLOR_BGR2GRAY)\n",
    "\n",
    "img_or = cv2.imread('C:/Users/aditi/OneDrive/Desktop/NEU/NEU Fall 22 (Computer Vision)/Project/Data/results_defogging/Brightness Correction/demo scipt data/33_GT.png')\n",
    "img_or_gray = cv2.cvtColor(img_or, cv2.COLOR_BGR2GRAY)\n",
    "\n",
    "img_hazed = cv2.imread('C:/Users/aditi/OneDrive/Desktop/NEU/NEU Fall 22 (Computer Vision)/Project/Data/results_defogging/Brightness Correction/demo scipt data/33_hazy.png')\n",
    "img_hazed_gray = cv2.cvtColor(img_hazed, cv2.COLOR_BGR2GRAY)\n",
    "\n",
    "\n",
    "\n",
    "ssim(img_or_gray, img_dehazed_gray)"
   ]
  },
  {
   "cell_type": "code",
   "execution_count": 88,
   "id": "9340e124",
   "metadata": {},
   "outputs": [
    {
     "data": {
      "text/plain": [
       "0.35948850485634826"
      ]
     },
     "execution_count": 88,
     "metadata": {},
     "output_type": "execute_result"
    }
   ],
   "source": [
    "ssim(img_or_gray, img_hazed_gray)"
   ]
  },
  {
   "cell_type": "code",
   "execution_count": 89,
   "id": "4797641a",
   "metadata": {},
   "outputs": [
    {
     "data": {
      "text/plain": [
       "15.000060116989083"
      ]
     },
     "execution_count": 89,
     "metadata": {},
     "output_type": "execute_result"
    }
   ],
   "source": [
    "cv2.PSNR(img_or_gray, img_dehazed_gray)"
   ]
  },
  {
   "cell_type": "code",
   "execution_count": 90,
   "id": "4adef750",
   "metadata": {},
   "outputs": [
    {
     "data": {
      "text/plain": [
       "9.956782885880157"
      ]
     },
     "execution_count": 90,
     "metadata": {},
     "output_type": "execute_result"
    }
   ],
   "source": [
    "cv2.PSNR(img_or_gray, img_hazed_gray)"
   ]
  },
  {
   "cell_type": "code",
   "execution_count": 91,
   "id": "835fe397",
   "metadata": {},
   "outputs": [
    {
     "data": {
      "text/plain": [
       "0.19266414262326562"
      ]
     },
     "execution_count": 91,
     "metadata": {},
     "output_type": "execute_result"
    }
   ],
   "source": [
    "# 33_haze : Haze removal with window size 300 : Comparison with clear image\n",
    "from skimage.metrics import structural_similarity as ssim\n",
    "\n",
    "img_dehazed = cv2.imread('C:/Users/aditi/OneDrive/Desktop/NEU/NEU Fall 22 (Computer Vision)/Project/Data/results_defogging/Brightness Correction/demo scipt data/test_window300_w0.99.png')\n",
    "img_dehazed_gray = cv2.cvtColor(img_dehazed, cv2.COLOR_BGR2GRAY)\n",
    "\n",
    "img_or = cv2.imread('C:/Users/aditi/OneDrive/Desktop/NEU/NEU Fall 22 (Computer Vision)/Project/Data/results_defogging/Brightness Correction/demo scipt data/04_GT.png')\n",
    "img_or_gray = cv2.cvtColor(img_or, cv2.COLOR_BGR2GRAY)\n",
    "\n",
    "img_hazed = cv2.imread('C:/Users/aditi/OneDrive/Desktop/NEU/NEU Fall 22 (Computer Vision)/Project/Data/results_defogging/Brightness Correction/demo scipt data/04_hazy.png')\n",
    "img_hazed_gray = cv2.cvtColor(img_hazed, cv2.COLOR_BGR2GRAY)\n",
    "\n",
    "\n",
    "\n",
    "ssim(img_or_gray, img_dehazed_gray)"
   ]
  },
  {
   "cell_type": "code",
   "execution_count": 92,
   "id": "18a72924",
   "metadata": {},
   "outputs": [
    {
     "data": {
      "text/plain": [
       "0.19266414262326562"
      ]
     },
     "execution_count": 92,
     "metadata": {},
     "output_type": "execute_result"
    }
   ],
   "source": [
    "ssim(img_or_gray, img_dehazed_gray)"
   ]
  },
  {
   "cell_type": "code",
   "execution_count": 93,
   "id": "942f0555",
   "metadata": {},
   "outputs": [
    {
     "data": {
      "text/plain": [
       "11.328586489992354"
      ]
     },
     "execution_count": 93,
     "metadata": {},
     "output_type": "execute_result"
    }
   ],
   "source": [
    "cv2.PSNR(img_or_gray, img_dehazed_gray)"
   ]
  },
  {
   "cell_type": "code",
   "execution_count": 94,
   "id": "0d71e191",
   "metadata": {},
   "outputs": [
    {
     "data": {
      "text/plain": [
       "9.265462505101373"
      ]
     },
     "execution_count": 94,
     "metadata": {},
     "output_type": "execute_result"
    }
   ],
   "source": [
    "cv2.PSNR(img_or_gray, img_hazed_gray)"
   ]
  }
 ],
 "metadata": {
  "kernelspec": {
   "display_name": "Python 3",
   "language": "python",
   "name": "python3"
  },
  "language_info": {
   "codemirror_mode": {
    "name": "ipython",
    "version": 3
   },
   "file_extension": ".py",
   "mimetype": "text/x-python",
   "name": "python",
   "nbconvert_exporter": "python",
   "pygments_lexer": "ipython3",
   "version": "3.8.8"
  }
 },
 "nbformat": 4,
 "nbformat_minor": 5
}
